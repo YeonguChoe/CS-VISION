{
 "cells": [
  {
   "cell_type": "markdown",
   "metadata": {},
   "source": [
    "# Assignment 3: Texture synthesis\n",
    "##### [Instruction](https://mattabrown.github.io/425/assignments/Assignment3.html)\n",
    "##### Name: Yeongu Choe\n",
    "##### Student number: 77672566"
   ]
  },
  {
   "cell_type": "code",
   "execution_count": 7,
   "metadata": {},
   "outputs": [],
   "source": [
    "from PIL import Image, ImageDraw\n",
    "import numpy as np\n",
    "import random\n",
    "import os.path\n",
    "import pickle"
   ]
  },
  {
   "cell_type": "markdown",
   "metadata": {},
   "source": [
    "### Question 4"
   ]
  },
  {
   "cell_type": "code",
   "execution_count": 8,
   "metadata": {},
   "outputs": [],
   "source": [
    "def ComputeSSD(TODOPatch: np.ndarray, TODOMask: np.ndarray, textureIm: np.ndarray, patchL: int) -> np.ndarray:\n",
    "    patch_rows, patch_cols, patch_bands = np.shape(TODOPatch)\n",
    "    tex_rows, tex_cols, tex_bands = np.shape(textureIm)\n",
    "    ssd_rows = tex_rows - 2 * patchL\n",
    "    ssd_cols = tex_cols - 2 * patchL\n",
    "    SSD = np.zeros((ssd_rows, ssd_cols))\n",
    "\n",
    "    # Step1: Iterate over SSD\n",
    "    for resultSSDRow in range(ssd_rows):\n",
    "        for resultSSDColumn in range(ssd_cols):\n",
    "            # Step2: Iterate over patch\n",
    "            for patchRow in range(patch_rows):\n",
    "                for patchColumn in range(patch_cols):\n",
    "                    # Step3: Check if it has valid pixel value, looking at TODOMask\n",
    "                    if (TODOMask[patchRow, patchColumn] == 0):\n",
    "                        # Step4: Find Row and Column in terms of original image input\n",
    "                        universalRowAddress = resultSSDRow+patchRow\n",
    "                        universalColumnAddress = resultSSDColumn+patchColumn\n",
    "                        # Step5: Convert data type into float32\n",
    "                        currentPatchPixel = TODOPatch[patchRow][patchColumn].astype(\n",
    "                            np.float32)\n",
    "                        currentTextureImPixel = textureIm[universalRowAddress][universalColumnAddress].astype(\n",
    "                            np.float32)\n",
    "                        # Step6: Calculate Sum Squared Difference\n",
    "                        difference = currentPatchPixel-currentTextureImPixel\n",
    "                        differenceSquared = difference**2\n",
    "                        # Step7: Assign summation of calculated SSD from above, into corresponding pixel in SSD matrix\n",
    "                        SSD[resultSSDRow][resultSSDColumn] += np.sum(\n",
    "                            differenceSquared)\n",
    "    return SSD"
   ]
  },
  {
   "cell_type": "markdown",
   "metadata": {},
   "source": [
    "### Question 5"
   ]
  },
  {
   "cell_type": "code",
   "execution_count": 9,
   "metadata": {},
   "outputs": [],
   "source": [
    "def CopyPatch(imHole: np.ndarray, TODOMask: np.ndarray, textureIm: np.ndarray, iPatchCenter: np.int64, jPatchCenter: np.int64, iMatchCenter: np.int64, jMatchCenter: np.int64, patchL: int) -> np.ndarray:\n",
    "    patchSize = 2 * patchL + 1\n",
    "\n",
    "    for currentRowInPatch in range(patchSize):\n",
    "        for currentColumnInPatch in range(patchSize):\n",
    "            if (TODOMask[currentRowInPatch][currentColumnInPatch] == 1):\n",
    "                # PatchCenter: center of the missing region on original image\n",
    "                # Step1: Start from the top left corner of the missing region\n",
    "                # Step1.1: Calculate row of the pixel that is going to be updated\n",
    "                patchRow = (iPatchCenter-patchL)+currentRowInPatch\n",
    "                # Step1.2: Calculate column of the pixel that is going to be updated\n",
    "                patchColumn = (jPatchCenter-patchL)+currentColumnInPatch\n",
    "\n",
    "                # MatchCenter: center of region that was selected, based on SSD samilarity\n",
    "                # Step2: Start from the top left corner of the selected region\n",
    "                # Step2.1: Calculate row of the pixel that is going to be updated\n",
    "                textureRow = (iMatchCenter-patchL)+currentRowInPatch\n",
    "                # Step2.2: Calculate column of the pixel that is going to be updated\n",
    "                textureColumn = (jMatchCenter-patchL)+currentColumnInPatch\n",
    "\n",
    "                # Step3: Update RGB pixel value for the missing region\n",
    "                # Update Red channel\n",
    "                imHole[patchRow][patchColumn][0] = textureIm[textureRow][textureColumn][0]\n",
    "                # Update Green channel\n",
    "                imHole[patchRow][patchColumn][1] = textureIm[textureRow][textureColumn][1]\n",
    "                # Update Blue channel\n",
    "                imHole[patchRow][patchColumn][2] = textureIm[textureRow][textureColumn][2]\n",
    "\n",
    "    return imHole"
   ]
  },
  {
   "cell_type": "markdown",
   "metadata": {},
   "source": [
    "#### Original Image\n",
    "![Donkey original image](donkey.jpg)\n",
    "#### Processed Image\n",
    "![Donkey processed image](results.jpg)"
   ]
  },
  {
   "cell_type": "markdown",
   "metadata": {},
   "source": [
    "### Question 6\n",
    "#### Instruction\n",
    "1. Change imname to new image file.\n",
    "2. select area, running polyselect.py\n",
    "3. set standard deviation (randomPatchSD) and patch length (patchL)."
   ]
  },
  {
   "cell_type": "markdown",
   "metadata": {},
   "source": [
    "#### Well performed algorithm example\n",
    "##### Original Image\n",
    "![Original Image](Image/originalCloud.jpeg)\n",
    "##### Processed Image\n",
    "![Processed Image](Image/modifiedCloud.jpg)\n",
    "* I tried to remove cloud from the original image.\n",
    "* I used 0.3 for standard deviation and 3 for patch length.\n",
    "\n",
    "#### Poorly performed algorithm example\n",
    "##### Original Image\n",
    "![Original Image](Image/originalSea.jpeg)\n",
    "##### Processed Image\n",
    "![Processed Image](Image/modifiedSea.jpg)\n",
    "* I tried to remove the sun from the original image.\n",
    "* I used 10 for standard deviation and 10 for patch length."
   ]
  },
  {
   "cell_type": "markdown",
   "metadata": {},
   "source": [
    "### Question 7"
   ]
  },
  {
   "cell_type": "markdown",
   "metadata": {},
   "source": [
    "#### Effect of randomPatchSD\n",
    "* The randomPatchSD is the standard deviation used to select a patch from the sample texture list.\n",
    "* If the randomPatchSD value is too small, then only few types of patches will be used for filling the missing region. The processed image may contain artifact, because the function is choosing the patch from a small pool of patches.\n",
    "* If randomPatchSD value is too large, then too many types of patchs can be selected to fill the missing region. Unrelated patchs may have put next to each other in the missing region.\n",
    "\n",
    "#### Effect of patchL\n",
    "* The patchL refers to the width and height of a square patch.\n",
    "* If patchL is too small, the synthesized part in the processed image may not accurately capture the original pattern.\n",
    "* If patchL is too large, various types of patches can be selected to fill the same missing region."
   ]
  }
 ],
 "metadata": {
  "kernelspec": {
   "display_name": "Python 3",
   "language": "python",
   "name": "python3"
  },
  "language_info": {
   "codemirror_mode": {
    "name": "ipython",
    "version": 3
   },
   "file_extension": ".py",
   "mimetype": "text/x-python",
   "name": "python",
   "nbconvert_exporter": "python",
   "pygments_lexer": "ipython3",
   "version": "3.9.6"
  }
 },
 "nbformat": 4,
 "nbformat_minor": 2
}
